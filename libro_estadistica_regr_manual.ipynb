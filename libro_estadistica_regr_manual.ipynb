{
 "cells": [
  {
   "cell_type": "markdown",
   "metadata": {},
   "source": [
    "2. Las librerías de la universidad han vendido el libro “Believe or Not: Wonders of Statistics Guide” durante 12 semestres y desean estimar la relación entre las ventas y el número de secciones de estadística elemental que se enseñan en cada semestre.  Se recolectaron los siguientes datos:   ( 25 pts)\n",
    "a) Determine la ecuación de mejor ajuste para los datos anteriores, utllizando la herramienta de análisis de datos y de manera manual realizando una tabla\n",
    "b) Calcule el coeficiente de determinación de la muestra y el coeficiente \n",
    "c) Pronostique las unidades a vender si el número de secciones es de 17."
   ]
  },
  {
   "cell_type": "code",
   "execution_count": 1,
   "metadata": {},
   "outputs": [],
   "source": [
    "import pandas as pd\n",
    "import numpy as np"
   ]
  },
  {
   "cell_type": "code",
   "execution_count": 2,
   "metadata": {},
   "outputs": [
    {
     "name": "stdout",
     "output_type": "stream",
     "text": [
      "    Ventas (unidades)  Número de secciones\n",
      "0                  33                    3\n",
      "1                  38                    7\n",
      "2                  24                    6\n",
      "3                  61                    6\n",
      "4                  52                   10\n",
      "5                  45                   12\n",
      "6                  65                   12\n",
      "7                  82                   13\n",
      "8                  29                   12\n",
      "9                  63                   13\n",
      "10                 50                   14\n",
      "11                 79                   15\n"
     ]
    }
   ],
   "source": [
    "ventas_libro = \"libro_estadistica.csv\"\n",
    "df = pd.read_csv(ventas_libro)\n",
    "\n",
    "print(df)"
   ]
  },
  {
   "cell_type": "markdown",
   "metadata": {},
   "source": [
    "### Utilizando el método por tablas\n",
    "\n",
    "1. Calcula el total de ventas y de secciones\n",
    "2. Calcula la media de ventas y de las secciones\n",
    "3. Para ventas calcula diferencia de cada valor menos el valor medio (x - xm)\n",
    "4. Para las secciones calcula diferencia de cada valor menos el valor medio (y - ym)\n",
    "5. Calcula el producto de las diferencias en 3 y 4 (x - xm) (y - ym)\n",
    "6. Obten el valor de x^2\n",
    "7. Obten el valor de y^2\n",
    "8. Obten el valor de xy\n",
    "9. Con estos valores, reemplazar para obtener b1, b0 y r"
   ]
  },
  {
   "cell_type": "markdown",
   "metadata": {},
   "source": [
    "$$\n",
    "b_1 = \\frac{n\\left(\\sum{x_i y_i}\\right) - \\left(\\sum{x_i}\\right)\\left(\\sum{y_i}\\right)}{n\\left(\\sum{x_i^2}\\right) - \\left(\\sum{x_i}\\right)^2}\n",
    "$$"
   ]
  },
  {
   "cell_type": "markdown",
   "metadata": {},
   "source": [
    "$$\n",
    "b_0 = \\frac{\\left(\\sum{y_i})(\\sum{x_i^2}\\right) - \\left(\\sum{x_i}\\right)\\left(\\sum{x_i y_i}\\right)}{n\\left(\\sum{x_i^2}\\right) - \\left(\\sum{x_i}\\right)^2}\n",
    "$$"
   ]
  },
  {
   "cell_type": "markdown",
   "metadata": {},
   "source": [
    "$$\n",
    "r = \\frac{n \\left(\\sum xy\\right) - \\left(\\sum x\\right) \\left(\\sum y\\right)}{\\sqrt{n \\left(\\sum x^2\\right) - \\left(\\sum x\\right)^2} \\sqrt{n \\left(\\sum y^2\\right) - \\left(\\sum y\\right)^2}}\n",
    "$$"
   ]
  },
  {
   "cell_type": "code",
   "execution_count": 3,
   "metadata": {},
   "outputs": [
    {
     "name": "stdout",
     "output_type": "stream",
     "text": [
      "Ventas (unidades)      51.75\n",
      "Número de secciones    10.25\n",
      "dtype: float64\n"
     ]
    }
   ],
   "source": [
    "medias = df.mean()\n",
    "print(medias)"
   ]
  },
  {
   "cell_type": "code",
   "execution_count": 4,
   "metadata": {},
   "outputs": [],
   "source": [
    "df = df.rename(columns={'Ventas (unidades)': 'Y'})\n",
    "df = df.rename(columns={'Número de secciones': 'X'})"
   ]
  },
  {
   "cell_type": "code",
   "execution_count": 5,
   "metadata": {},
   "outputs": [
    {
     "name": "stdout",
     "output_type": "stream",
     "text": [
      "     Y   X  x-xp   y-yp\n",
      "0   33   3 -7.25 -18.75\n",
      "1   38   7 -3.25 -13.75\n",
      "2   24   6 -4.25 -27.75\n",
      "3   61   6 -4.25   9.25\n",
      "4   52  10 -0.25   0.25\n",
      "5   45  12  1.75  -6.75\n",
      "6   65  12  1.75  13.25\n",
      "7   82  13  2.75  30.25\n",
      "8   29  12  1.75 -22.75\n",
      "9   63  13  2.75  11.25\n",
      "10  50  14  3.75  -1.75\n",
      "11  79  15  4.75  27.25\n"
     ]
    },
    {
     "name": "stderr",
     "output_type": "stream",
     "text": [
      "/tmp/ipykernel_18906/3939088904.py:1: FutureWarning: Series.__getitem__ treating keys as positions is deprecated. In a future version, integer keys will always be treated as labels (consistent with DataFrame behavior). To access a value by position, use `ser.iloc[pos]`\n",
      "  df['x-xp'] = df['X'] - medias[1]\n",
      "/tmp/ipykernel_18906/3939088904.py:2: FutureWarning: Series.__getitem__ treating keys as positions is deprecated. In a future version, integer keys will always be treated as labels (consistent with DataFrame behavior). To access a value by position, use `ser.iloc[pos]`\n",
      "  df['y-yp'] = df['Y'] - medias[0]\n"
     ]
    }
   ],
   "source": [
    "df['x-xp'] = df['X'] - medias[1]\n",
    "df['y-yp'] = df['Y'] - medias[0]\n",
    "\n",
    "print(df)"
   ]
  },
  {
   "cell_type": "code",
   "execution_count": null,
   "metadata": {},
   "outputs": [],
   "source": []
  }
 ],
 "metadata": {
  "kernelspec": {
   "display_name": "env",
   "language": "python",
   "name": "python3"
  },
  "language_info": {
   "codemirror_mode": {
    "name": "ipython",
    "version": 3
   },
   "file_extension": ".py",
   "mimetype": "text/x-python",
   "name": "python",
   "nbconvert_exporter": "python",
   "pygments_lexer": "ipython3",
   "version": "3.10.12"
  }
 },
 "nbformat": 4,
 "nbformat_minor": 2
}
