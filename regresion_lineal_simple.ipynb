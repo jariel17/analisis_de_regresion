{
 "cells": [
  {
   "cell_type": "markdown",
   "metadata": {},
   "source": [
    "### Problema 1\n",
    "\n",
    "En cierto tipo de espécimen de prueba metálico se sabe que la tensión normal sobre un espécimen se relaciona funcionalmente con la resistencia al corte.  El siguiente es un conjunto de datos experimentales codificados para las 2 variables. Confeccione el diagrama de dispersión\n",
    "Estime la recta de regresión\n",
    "Calcule los coeficientes de correlación y determinación y explique sus resultados\n",
    "Estime la resistencia al corte para una tensión normal de 24.5\n",
    "\n",
    "| Tensión normal,  x |\t Resistencia al corte, y |\n",
    "| -------------------| ------------------------- |\n",
    "| 26.8 |  26.5 |\n",
    "| 25.4 |  27.3 |\n",
    "| 28.9 |  24.2 |\n",
    "| 23.6 |  27.1 |\n",
    "| 27.7 |  23.6 |\n",
    "| 23.9 |  25.9 |\n",
    "| 24.7 |  26.3 |\n",
    "| 28.1 |  22.5 |\n",
    "| 26.9 |  21.7 |\n",
    "| 27.4 |  21.4 |\n",
    "| 22.6 |  25.8 |\n",
    "| 25.6 |  24.9 |\n",
    "\n"
   ]
  },
  {
   "cell_type": "markdown",
   "metadata": {},
   "source": []
  }
 ],
 "metadata": {
  "language_info": {
   "name": "python"
  }
 },
 "nbformat": 4,
 "nbformat_minor": 2
}
