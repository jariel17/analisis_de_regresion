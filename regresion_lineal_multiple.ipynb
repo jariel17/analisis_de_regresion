{
 "cells": [
  {
   "cell_type": "code",
   "execution_count": 12,
   "metadata": {},
   "outputs": [],
   "source": [
    "import pandas as pd\n",
    "import numpy as np"
   ]
  },
  {
   "cell_type": "code",
   "execution_count": 13,
   "metadata": {},
   "outputs": [
    {
     "name": "stdout",
     "output_type": "stream",
     "text": [
      "       Mes  Ventas (miles)  Publicidad (cantidad de anuncios)  \\\n",
      "0    Enero              33                                  3   \n",
      "1  Febrero              61                                  6   \n",
      "2    Marzo              70                                 10   \n",
      "3    Abril              82                                 13   \n",
      "4     Mayo              17                                  9   \n",
      "5    Junio              24                                  6   \n",
      "\n",
      "   Precio (dolares)  \n",
      "0               125  \n",
      "1               115  \n",
      "2               140  \n",
      "3               130  \n",
      "4               145  \n",
      "5               140  \n"
     ]
    }
   ],
   "source": [
    "ventas_csv = \"ventas.csv\"\n",
    "df = pd.read_csv(ventas_csv)\n",
    "\n",
    "print(df)"
   ]
  },
  {
   "cell_type": "code",
   "execution_count": 15,
   "metadata": {},
   "outputs": [
    {
     "name": "stdout",
     "output_type": "stream",
     "text": [
      "[[  1.   3. 125.]\n",
      " [  1.   6. 115.]\n",
      " [  1.  10. 140.]\n",
      " [  1.  13. 130.]\n",
      " [  1.   9. 145.]\n",
      " [  1.   6. 140.]]\n"
     ]
    }
   ],
   "source": [
    "publicidad_precio = df[[\"Publicidad (cantidad de anuncios)\", \"Precio (dolares)\"]]\n",
    "matriz = publicidad_precio.values\n",
    "matriz = matriz.astype(float)\n",
    "unos = np.ones((matriz.shape[0], 1))\n",
    "\n",
    "X = np.hstack((unos, matriz))\n",
    "print(X)"
   ]
  },
  {
   "cell_type": "code",
   "execution_count": 16,
   "metadata": {},
   "outputs": [
    {
     "name": "stdout",
     "output_type": "stream",
     "text": [
      "[[6.00000e+00 4.70000e+01 7.95000e+02]\n",
      " [4.70000e+01 4.31000e+02 6.30000e+03]\n",
      " [7.95000e+02 6.30000e+03 1.05975e+05]]\n"
     ]
    }
   ],
   "source": [
    "X1 = np.dot(X.T, X)\n",
    "print(X1)"
   ]
  }
 ],
 "metadata": {
  "kernelspec": {
   "display_name": "env",
   "language": "python",
   "name": "python3"
  },
  "language_info": {
   "codemirror_mode": {
    "name": "ipython",
    "version": 3
   },
   "file_extension": ".py",
   "mimetype": "text/x-python",
   "name": "python",
   "nbconvert_exporter": "python",
   "pygments_lexer": "ipython3",
   "version": "3.10.12"
  }
 },
 "nbformat": 4,
 "nbformat_minor": 2
}
